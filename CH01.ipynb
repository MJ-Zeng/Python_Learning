{
 "cells": [
  {
   "cell_type": "markdown",
   "metadata": {},
   "source": [
    "# 一 . An Informal Introduction to Python"
   ]
  },
  {
   "cell_type": "code",
   "execution_count": 9,
   "metadata": {},
   "outputs": [
    {
     "name": "stdout",
     "output_type": "stream",
     "text": [
      "C:\\some\n",
      "ame\n",
      "C:\\some\\name\n",
      "1\n",
      "    2\n",
      "    3\n",
      "item_oneitem_twoitem_three\n",
      "unununium\n",
      "python\n",
      "n\n"
     ]
    }
   ],
   "source": [
    "#string\n",
    "\n",
    "#special characters\n",
    "print('C:\\some\\name')\n",
    "\n",
    "#use raw strings\n",
    "print(r'C:\\some\\name')\n",
    "\n",
    "#span multiple lines\n",
    "print('''1\n",
    "    2\n",
    "    3''')\n",
    "\n",
    "total = 'item_one' + \\\n",
    "        'item_two' + \\\n",
    "        'item_three'\n",
    "print(total)\n",
    "\n",
    "print(3*'un'+'ium')\n",
    "\n",
    "print('py' 'thon')\n",
    "\n",
    "print('python'[-1])\n"
   ]
  },
  {
   "cell_type": "code",
   "execution_count": 23,
   "metadata": {},
   "outputs": [
    {
     "name": "stdout",
     "output_type": "stream",
     "text": [
      "hello,3.14\n",
      "Hello, 小明, 成绩提升了 17.1%\n",
      "hello,3.14\n"
     ]
    }
   ],
   "source": [
    "#字符串格式化\n",
    "#%\n",
    "print('%s,%.2f' % ('hello', 3.1415926))\n",
    "\n",
    "#format()\n",
    "print('Hello, {0}, 成绩提升了 {1:.1f}%'.format('小明', 17.125))\n",
    "\n",
    "#f-string\n",
    "h = 'hello'\n",
    "num = 3.14159\n",
    "print(f'{h},{num:.2f}')\n"
   ]
  },
  {
   "cell_type": "code",
   "execution_count": 12,
   "metadata": {},
   "outputs": [
    {
     "name": "stdout",
     "output_type": "stream",
     "text": [
      "1 1 1\n",
      "1 2 john\n"
     ]
    }
   ],
   "source": [
    "#多个变量赋值\n",
    "a = b = c = 1\n",
    "print(a,b,c)\n",
    "\n",
    "a, b, c = 1, 2, \"john\"\n",
    "print(a,b,c)"
   ]
  },
  {
   "cell_type": "code",
   "execution_count": 19,
   "metadata": {},
   "outputs": [
    {
     "name": "stdout",
     "output_type": "stream",
     "text": [
      "// 4\n",
      "12\n",
      "61\n",
      "49\n",
      "#逻辑运算符\n",
      "13\n",
      "60\n",
      "True\n",
      "Python成员运算符\n",
      "False\n",
      "True\n",
      "Python身份运算符\n",
      "True\n",
      "False\n"
     ]
    }
   ],
   "source": [
    "#运算符\n",
    "\n",
    "#取整除 - 返回商的整数部分（向下取整）\n",
    "print('//',9//2)\n",
    "\n",
    "\n",
    "#位运算符\n",
    "a = 60            # 60 = 0011 1100 \n",
    "b = 13            # 13 = 0000 1101 \n",
    "c = 0\n",
    "print(a&b)\n",
    "print(a|b)\n",
    "print(a^b)\n",
    "\n",
    "\n",
    "print('#逻辑运算符')\n",
    "print(a and b)\n",
    "print(a or c)\n",
    "print(not c)\n",
    "\n",
    "\n",
    "print('Python成员运算符')\n",
    "a = 10\n",
    "b = 20\n",
    "list = [1, 2, 3, 4, 5 ]\n",
    "print(a  in  list)\n",
    "print(a not in list)\n",
    "\n",
    "\n",
    "print('Python身份运算符')\n",
    "a = 20\n",
    "b = 20\n",
    "print( a is b)\n",
    "print(a is not b)"
   ]
  }
 ],
 "metadata": {
  "interpreter": {
   "hash": "5c37932f1099479a4b2170b2b76a84d5205e6a75e2b0a62430962e0dcd1da20a"
  },
  "kernelspec": {
   "display_name": "Python 3.9.7 ('base')",
   "language": "python",
   "name": "python3"
  },
  "language_info": {
   "codemirror_mode": {
    "name": "ipython",
    "version": 3
   },
   "file_extension": ".py",
   "mimetype": "text/x-python",
   "name": "python",
   "nbconvert_exporter": "python",
   "pygments_lexer": "ipython3",
   "version": "3.9.7"
  },
  "orig_nbformat": 4
 },
 "nbformat": 4,
 "nbformat_minor": 2
}
