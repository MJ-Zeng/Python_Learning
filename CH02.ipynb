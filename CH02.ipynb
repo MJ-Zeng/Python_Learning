{
 "cells": [
  {
   "cell_type": "markdown",
   "metadata": {},
   "source": [
    "# 二.复杂数据结构"
   ]
  },
  {
   "cell_type": "code",
   "execution_count": 3,
   "metadata": {},
   "outputs": [
    {
     "name": "stdout",
     "output_type": "stream",
     "text": [
      "[0, 1, 2, 3, 4]\n",
      "slice operation is a shallow copy False\n",
      "Lists also support operations like concatenation [1, 4, 9, 16, 25, 36, 49, 64, 81, 100]\n",
      "[4, 9, 16, 25]\n"
     ]
    }
   ],
   "source": [
    "#list\n",
    "print(list(range(5)))\n",
    "\n",
    "\n",
    "#slice operation is a shallow copy\n",
    "squares = [1, 4, 9, 16, 25]\n",
    "a = squares[:]\n",
    "a[1] = 0\n",
    "print('slice operation is a shallow copy',a == squares)\n",
    "\n",
    "#Lists also support operations like concatenation:\n",
    "print('Lists also support operations like concatenation',squares + [36, 49, 64, 81, 100])\n",
    "\n",
    "#del\n",
    "del squares[0]\n",
    "print(squares)"
   ]
  },
  {
   "cell_type": "code",
   "execution_count": 8,
   "metadata": {},
   "outputs": [
    {
     "name": "stdout",
     "output_type": "stream",
     "text": [
      "(1,)\n",
      "(1, 2)\n"
     ]
    }
   ],
   "source": [
    "#tuple:元组的元素不能修改\n",
    "\n",
    "#创建单个元素要添加逗号\n",
    "t1=(1,)\n",
    "print(t1)\n",
    "\n",
    "# 创建一个新的元组\n",
    "t2 =(2,)\n",
    "tup3 = t1 + t2\n",
    "print(tup3)\n",
    "\n",
    "#删除\n",
    "del tup3"
   ]
  },
  {
   "cell_type": "code",
   "execution_count": null,
   "metadata": {},
   "outputs": [],
   "source": [
    "#dict\n",
    "d = {'Michael': 95, 'Bob': 75, 'Tracy': 85}\n",
    "\n",
    "#key不存在会报错\n",
    "print(d['Michael'])\n",
    "#return None or Value\n",
    "print(d.get('Michael'))\n",
    "\n"
   ]
  },
  {
   "cell_type": "code",
   "execution_count": 14,
   "metadata": {},
   "outputs": [
    {
     "name": "stdout",
     "output_type": "stream",
     "text": [
      "{1, 2, 3}\n",
      "{1, 2, 3}\n",
      "{2, 3}\n"
     ]
    }
   ],
   "source": [
    "#set:不储存重复元素，无序\n",
    "s = set([1,2,3])\n",
    "print(s)\n",
    "\n",
    "s.add(1)\n",
    "print(s)\n",
    "\n",
    "s.remove(1)\n",
    "print(s)\n"
   ]
  }
 ],
 "metadata": {
  "interpreter": {
   "hash": "5c37932f1099479a4b2170b2b76a84d5205e6a75e2b0a62430962e0dcd1da20a"
  },
  "kernelspec": {
   "display_name": "Python 3.9.7 ('base')",
   "language": "python",
   "name": "python3"
  },
  "language_info": {
   "codemirror_mode": {
    "name": "ipython",
    "version": 3
   },
   "file_extension": ".py",
   "mimetype": "text/x-python",
   "name": "python",
   "nbconvert_exporter": "python",
   "pygments_lexer": "ipython3",
   "version": "3.9.7"
  },
  "orig_nbformat": 4
 },
 "nbformat": 4,
 "nbformat_minor": 2
}
