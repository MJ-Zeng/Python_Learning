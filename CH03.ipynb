{
 "cells": [
  {
   "cell_type": "markdown",
   "metadata": {},
   "source": [
    "函数参数"
   ]
  },
  {
   "cell_type": "code",
   "execution_count": 7,
   "metadata": {},
   "outputs": [
    {
     "name": "stdout",
     "output_type": "stream",
     "text": [
      "必备参数\n",
      "关键字参数 17\n",
      "name: Jack age: 24 other: {'city': 'Beijing', 'addr': 'Chaoyang', 'zipcode': 123456}\n",
      "默认参数 17\n",
      "a = 1 b = 2 c = 3 args = ('a', 'b') kw = {'k': 5, 'j': 6}\n"
     ]
    }
   ],
   "source": [
    "#必备参数\n",
    "def printme(str):\n",
    "   print(str)\n",
    " \n",
    "printme(\"必备参数\")\n",
    "\n",
    "#关键字参数\n",
    "def printinfo(name,age):\n",
    "    print(name,age)\n",
    "printinfo(age=17,name='关键字参数')\n",
    "\n",
    "#关键字参数允许你传入0个或任意个含参数名的参数，这些关键字参数在函数内部自动组装为一个dict\n",
    "def person(name, age, **kw):\n",
    "    if 'city' in kw:\n",
    "        # 有city参数\n",
    "        pass\n",
    "    if 'job' in kw:\n",
    "        # 有job参数\n",
    "        pass\n",
    "    print('name:', name, 'age:', age, 'other:', kw)\n",
    "person('Jack', 24, city='Beijing', addr='Chaoyang', zipcode=123456)\n",
    "\n",
    "#默认参数\n",
    "def printinfo(name,age=17):\n",
    "    print(name,age)\n",
    "printinfo('默认参数')\n",
    "\n",
    "#*args是可变参数，args接收的是一个tuple；\n",
    "def printinfo(*arg):\n",
    "    for i in arg:\n",
    "        print(i)\n",
    "\n",
    "\n",
    "#参数组合\n",
    "def f1(a, b, c=0, *args, **kw):\n",
    "    print('a =', a, 'b =', b, 'c =', c, 'args =', args, 'kw =', kw)\n",
    "f1(1,2,3,'a','b',k=5,j=6)"
   ]
  }
 ],
 "metadata": {
  "interpreter": {
   "hash": "5c37932f1099479a4b2170b2b76a84d5205e6a75e2b0a62430962e0dcd1da20a"
  },
  "kernelspec": {
   "display_name": "Python 3.9.7 ('base')",
   "language": "python",
   "name": "python3"
  },
  "language_info": {
   "codemirror_mode": {
    "name": "ipython",
    "version": 3
   },
   "file_extension": ".py",
   "mimetype": "text/x-python",
   "name": "python",
   "nbconvert_exporter": "python",
   "pygments_lexer": "ipython3",
   "version": "3.9.7"
  },
  "orig_nbformat": 4
 },
 "nbformat": 4,
 "nbformat_minor": 2
}
